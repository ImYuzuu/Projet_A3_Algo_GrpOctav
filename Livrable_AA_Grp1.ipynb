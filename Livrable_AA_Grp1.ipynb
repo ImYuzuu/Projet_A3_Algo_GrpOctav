{
 "cells": [
  {
   "cell_type": "markdown",
   "metadata": {},
   "source": [
    "<div style=\"text-align: center;\">\n",
    "    <img src=\"./images/logo_CESI.jpg\" width=\"500\">\n",
    "</div>"
   ]
  },
  {
   "cell_type": "markdown",
   "metadata": {},
   "source": [
    "# Livrable 1\n",
    "\n",
    "## Contexte du Projet\n",
    "\n",
    "Ce projet vise à répondre à l'appel à manifestation d'intérêt lancé par l'ADEME (Agence de l'Environnement et de la Maîtrise de l'Énergie) pour la réalisation de démonstrateurs et d'expérimentations de nouvelles solutions de mobilité durable adaptées à différents types de territoires.\n",
    "\n",
    "L'équipe de CesiCDP, en collaboration avec plusieurs partenaires, s'est déjà intéressée à la mobilité multimodale intelligente et souhaite développer une méthode basée sur la recherche opérationnelle pour résoudre le problème de la gestion de tournées de livraison. L'objectif est de calculer une tournée optimisée sur un réseau routier reliant un sous-ensemble de villes, en minimisant la durée totale de la tournée tout en tenant compte du trafic prévu sur chaque axe pour les différentes tranches horaires.\n",
    "\n",
    "Le projet comporte une version de base du problème où le modèle et le code en Python doivent être développés pour résoudre des instances de taille importante. De plus, une étude statistique du comportement expérimental de l'algorithme doit être réalisée.\n",
    "\n",
    "Dans un second temps, des contraintes supplémentaires peuvent être intégrées. Ces dernières incluent des fenêtres de temps de livraison, l'interdiction de livrer en dehors de ces fenêtres, la possibilité d'attendre sur place l'ouverture des fenêtres, l'utilisation de plusieurs camions pour effectuer les livraisons avec des contraintes de capacité et d'encombrement, des points de collecte spécifiques pour chaque objet, la variation du temps de parcours des axes en fonction du trafic, etc.\n",
    "\n",
    "Le projet est organisé en plusieurs étapes, dont la modélisation formelle, la conception algorithmique et l'implémentation, l'étude expérimentale et la présentation des résultats à l'équipe avant la remise des livrables à l'ADEME.\n",
    "\n",
    "Le premier livrable de modélisation contient une étude décrivant le problème, sa formalisation, les contraintes supplémentaires traitées et une analyse théorique de sa complexité."
   ]
  },
  {
   "cell_type": "markdown",
   "metadata": {},
   "source": [
    "## Membre du groupe\n",
    "\n",
    "<img src=\"./images/team.png\" width=\"1000\">"
   ]
  },
  {
   "cell_type": "markdown",
   "metadata": {},
   "source": [
    "# Optimisation de Tournées de Livraison\n",
    "## Contexte\n",
    "L'ADEME a lancé un appel à manifestation d'intérêt pour promouvoir la réalisation de démonstrateurs et d’expérimentations de nouvelles solutions de mobilité. CesiCDP, en collaboration avec ses partenaires, propose une solution pour optimiser les tournées de livraison.\n",
    "\n",
    "## Description du Problème de Base\n",
    "Le problème consiste à calculer une tournée de livraison sur un réseau routier reliant plusieurs villes et revenant au point de départ, en minimisant la durée totale de la tournée. Ce problème est connu sous le nom de Problème du Voyageur de Commerce (TSP).\n"
   ]
  },
  {
   "cell_type": "markdown",
   "metadata": {},
   "source": [
    "## Reformulation Formelle du Problème\n",
    "### Variables de Décision\n",
    "- \\( x_{ij} \\): Indicateur binaire (1 si l'arc de la ville \\( i \\) à la ville \\( j \\) est utilisé, 0 sinon)\n",
    "- \\( t_i \\): Temps d'arrivée à la ville \\( i \\)\n",
    "\n",
    "### Fonction Objectif\n",
    "Minimiser la durée totale de la tournée:\n",
    "\\[\n",
    "\\min \\sum_{i=1}^{n} \\sum_{j=1}^{n} c_{ij} x_{ij}\n",
    "\\]\n",
    "où \\( c_{ij} \\) est le coût (temps de trajet) entre les villes \\( i \\) et \\( j \\).\n",
    "\n",
    "### Contraintes\n",
    "1. Chaque ville doit être visitée une fois:\n",
    "\\[\n",
    "\\sum_{j=1}^{n} x_{ij} = 1 \\quad \\forall i\n",
    "\\]\n",
    "2. Chaque ville doit être quittée une fois:\n",
    "\\[\n",
    "\\sum_{i=1}^{n} x_{ij} = 1 \\quad \\forall j\n",
    "\\]\n",
    "3. Temps de trajet:\n",
    "\\[\n",
    "t_i + c_{ij} - t_j \\leq M (1 - x_{ij}) \\quad \\forall i, j\n",
    "\\]\n",
    "4. Variables binaires:\n",
    "\\[\n",
    "x_{ij} \\in \\{0, 1\\}\n",
    "\\]\n"
   ]
  },
  {
   "cell_type": "markdown",
   "metadata": {},
   "source": [
    "## Propriétés Théoriques du Problème\n",
    "Le problème de base est un problème NP-difficile, similaire au Problème du Voyageur de Commerce (TSP). La complexité théorique du problème est confirmée par sa réduction au TSP, ce qui indique qu'il n'existe pas d'algorithme en temps polynomial pour le résoudre exactement.\n",
    "\n",
    "### Comparaison avec d'autres Problèmes\n",
    "- **TSP**: Chaque ville est visitée une fois avec un retour au point de départ.\n",
    "- **VRP**: Similaire au TSP mais avec des véhicules multiples et des contraintes de capacité.\n"
   ]
  },
  {
   "cell_type": "markdown",
   "metadata": {},
   "source": [
    "## Contraintes Supplémentaires\n",
    "### Fenêtres de Temps de Livraison\n",
    "- Interdiction de livrer hors de la fenêtre\n",
    "- Possibilité d'attendre sur place\n",
    "\n",
    "### Variation du Temps de Parcours\n",
    "Le temps de parcours d'une arête varie au cours du temps pour représenter la variation du trafic. Cela ajoute une dimension temporelle au coût \\( c_{ij} \\).\n"
   ]
  },
  {
   "cell_type": "markdown",
   "metadata": {},
   "source": [
    "## Références Bibliographiques\n",
    "- Exemple d'article 1\n",
    "- Exemple d'article 2\n",
    "- Ouvrages scientifiques sur le TSP et le VRP\n"
   ]
  },
  {
   "cell_type": "code",
   "execution_count": null,
   "metadata": {},
   "outputs": [],
   "source": [
    "!pip install ortools"
   ]
  },
  {
   "cell_type": "code",
   "execution_count": null,
   "metadata": {},
   "outputs": [],
   "source": [
    "from ortools.linear_solver import pywraplp\n",
    "\n",
    "def create_data_model():\n",
    "    \"\"\"Stores the data for the problem.\"\"\"\n",
    "    data = {}\n",
    "    data['distance_matrix'] = [\n",
    "        [0, 29, 20, 21],\n",
    "        [29, 0, 15, 17],\n",
    "        [20, 15, 0, 28],\n",
    "        [21, 17, 28, 0],\n",
    "    ]\n",
    "    data['num_vehicles'] = 1\n",
    "    data['depot'] = 0\n",
    "    return data\n",
    "\n",
    "def main():\n",
    "    data = create_data_model()\n",
    "    solver = pywraplp.Solver.CreateSolver('SCIP')\n",
    "    \n",
    "    # Variables\n",
    "    num_locations = len(data['distance_matrix'])\n",
    "    x = {}\n",
    "    for i in range(num_locations):\n",
    "        for j in range(num_locations):\n",
    "            if i != j:\n",
    "                x[i, j] = solver.BoolVar(f'x[{i},{j}]')\n",
    "    \n",
    "    # Constraints\n",
    "    for i in range(num_locations):\n",
    "        solver.Add(sum(x[i, j] for j in range(num_locations) if i != j) == 1)\n",
    "        solver.Add(sum(x[j, i] for j in range(num_locations) if i != j) == 1)\n",
    "    \n",
    "    # Objective\n",
    "    objective = solver.Objective()\n",
    "    for i in range(num_locations):\n",
    "        for j in range(num_locations):\n",
    "            if i != j:\n",
    "                objective.SetCoefficient(x[i, j], data['distance_matrix'][i][j])\n",
    "    objective.SetMinimization()\n",
    "    \n",
    "    status = solver.Solve()\n",
    "\n",
    "    if status == pywraplp.Solver.OPTIMAL:\n",
    "        print('Total cost = ', objective.Value())\n",
    "        for i in range(num_locations):\n",
    "            for j in range(num_locations):\n",
    "                if i != j:\n",
    "                    if x[i, j].solution_value() > 0:\n",
    "                        print(f'Location {i} to {j}')\n",
    "    else:\n",
    "        print('No solution found.')\n",
    "\n",
    "if __name__ == '__main__':\n",
    "    main()\n"
   ]
  }
 ],
 "metadata": {
  "kernelspec": {
   "display_name": "Python 3",
   "language": "python",
   "name": "python3"
  },
  "language_info": {
   "codemirror_mode": {
    "name": "ipython",
    "version": 3
   },
   "file_extension": ".py",
   "mimetype": "text/x-python",
   "name": "python",
   "nbconvert_exporter": "python",
   "pygments_lexer": "ipython3",
   "version": "3.10.1"
  }
 },
 "nbformat": 4,
 "nbformat_minor": 2
}
